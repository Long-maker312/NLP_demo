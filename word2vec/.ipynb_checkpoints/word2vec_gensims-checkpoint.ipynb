{
 "cells": [
  {
   "cell_type": "code",
   "execution_count": 25,
   "id": "5e0e9fe0-5bc6-44c9-a82f-6ebf7a7a5402",
   "metadata": {},
   "outputs": [
    {
     "name": "stdout",
     "output_type": "stream",
     "text": [
      "数据列名： Index(['label', 'comment'], dtype='object')\n",
      "✅ 模型训练完成，词表大小：11780\n"
     ]
    }
   ],
   "source": [
    "import pandas as pd\n",
    "from gensim.models import Word2Vec\n",
    "import jieba\n",
    "\n",
    "# 1. 读取数据（确保train.csv在同目录）\n",
    "try:\n",
    "    df = pd.read_csv('train.csv')\n",
    "except FileNotFoundError:\n",
    "    print(\"❌ 错误：未找到train.csv文件！请将文件放在当前目录，或从学习通/ GitHub重新下载。\")\n",
    "    raise  # 终止执行，避免后续错误\n",
    "\n",
    "# 2. 检查数据列名（根据你的数据，实际列名为'comment'）\n",
    "print(\"数据列名：\", df.columns)  # 应输出 Index(['label', 'comment'], ...)\n",
    "if 'comment' not in df.columns:\n",
    "    print(\"❌ 错误：数据中缺少'comment'列！请检查数据是否正确下载。\")\n",
    "    raise\n",
    "\n",
    "# 3. 数据预处理（中文分词，使用'comment'列）\n",
    "sentences = []\n",
    "for text in df['comment']:\n",
    "    if isinstance(text, str):  # 处理字符串类型\n",
    "        words = jieba.lcut(text.strip())  # 分词并去除前后空格\n",
    "        if words:  # 过滤空句子\n",
    "            sentences.append(words)\n",
    "    elif pd.isna(text):  # 处理缺失值（如NaN）\n",
    "        continue  # 跳过空值\n",
    "\n",
    "# 4. 训练Skip-Gram模型（sg=1，任务1核心要求）\n",
    "model = Word2Vec(\n",
    "    sentences=sentences,        # 分词后的句子列表\n",
    "    vector_size=100,            # 词向量维度（默认100，可自定义）\n",
    "    window=5,                   # 上下文窗口大小\n",
    "    min_count=1,                # 忽略词频<1的词（包含低频词）\n",
    "    sg=1,                       # 使用Skip-Gram模型（1=Skip-Gram，0=CBOW）\n",
    "    epochs=10,                  # 训练轮数\n",
    "    workers=4,                  # 并行线程数（根据CPU核心数调整）\n",
    "    seed=42                     # 固定随机种子，确保结果可复现（可选）\n",
    ")\n",
    "\n",
    "# 5. 验证模型训练成功（可选，显示词表大小）\n",
    "print(f\"✅ 模型训练完成，词表大小：{len(model.wv.key_to_index)}\")"
   ]
  },
  {
   "cell_type": "code",
   "execution_count": 27,
   "id": "a54a50c1-bc9d-4171-81dd-ff0fd6331557",
   "metadata": {},
   "outputs": [
    {
     "name": "stdout",
     "output_type": "stream",
     "text": [
      "词向量： [ 0.22136146 -0.27616668  0.2645627  -0.04798624 -0.67146605  0.5530261\n",
      "  0.2562593   0.2827301  -0.540008   -0.1930875  -0.93454367  0.47286826\n",
      " -0.11612877  0.27612126 -0.32475546 -0.4437183   0.37124655 -0.57307565\n",
      " -0.5240218   0.30186728 -0.19834386 -0.18458013 -0.0320374  -0.2038352\n",
      "  0.19505586 -0.48117423  0.02299462 -0.08084007 -1.2929502  -0.6559462\n",
      " -0.28957552  0.16172746  0.09849492 -0.54721636  0.17616266  0.01310606\n",
      "  0.04639869 -0.04358044 -0.07836898  0.38656718  0.73672974 -0.02542879\n",
      "  0.90403956 -0.21364231 -0.3506671   0.1512568  -0.02012627  0.4158034\n",
      "  1.1815318   0.06503085  0.57651347 -0.14549804 -0.13040964 -0.16096403\n",
      "  0.21315849  0.04191227  0.26670685  0.5338617   0.0452549  -0.33788556\n",
      " -0.598697    0.14211692  0.09599409  0.06522573  0.25837758  0.30410844\n",
      "  0.08417613 -0.7211761  -0.3878452  -0.2894672  -0.44232196  0.14583011\n",
      "  0.13611801 -0.19276193 -0.17327906  0.09812251 -0.57341135 -0.2936502\n",
      "  0.3503093  -0.13503322  0.4375291  -0.19763336 -0.32225883  0.584227\n",
      " -0.57649094  0.5598395  -0.36785996 -0.01556513 -0.15122055  0.4350895\n",
      " -0.37694055  0.5395095   0.36107868 -0.2001517   0.06272017 -0.6140811\n",
      "  0.18971957  0.09127836 -0.06999575 -0.54646116]\n",
      "形状： (100,)\n"
     ]
    }
   ],
   "source": [
    "# 检查“环境”是否在词表中（避免KeyError）\n",
    "if \"环境\" not in model.wv.key_to_index:\n",
    "    print(\"❌ 错误：词汇‘环境’未在训练数据中出现！请检查评论中是否包含该词。\")\n",
    "else:\n",
    "    env_vector = model.wv[\"环境\"]  # 获取词向量\n",
    "    print(\"词向量：\", env_vector)          # 输出向量数值（维度100）\n",
    "    print(\"形状：\", env_vector.shape)      # 输出形状 (100,)"
   ]
  },
  {
   "cell_type": "code",
   "execution_count": 29,
   "id": "483bdc58-a751-4f80-8bb3-021618ec1a59",
   "metadata": {},
   "outputs": [
    {
     "name": "stdout",
     "output_type": "stream",
     "text": [
      "与‘好吃’最接近的3个词：\n",
      "- 入味（相似度：0.7703）\n",
      "- 油腻（相似度：0.7589）\n",
      "- 有味（相似度：0.7546）\n"
     ]
    }
   ],
   "source": [
    "# 检查“好吃”是否在词表中\n",
    "if \"好吃\" not in model.wv.key_to_index:\n",
    "    print(\"❌ 错误：词汇‘好吃’未在训练数据中出现！\")\n",
    "else:\n",
    "    similar_words = model.wv.most_similar(\"好吃\", topn=3)  # 取前3个相似词\n",
    "    print(\"与‘好吃’最接近的3个词：\")\n",
    "    for word, score in similar_words:\n",
    "        print(f\"- {word}（相似度：{score:.4f}）\")"
   ]
  },
  {
   "cell_type": "code",
   "execution_count": 31,
   "id": "c43c318c-a580-4955-bafa-8d79073cb23d",
   "metadata": {},
   "outputs": [
    {
     "name": "stdout",
     "output_type": "stream",
     "text": [
      "‘好吃’ vs ‘美味’ 相似度：0.6996\n",
      "‘好吃’ vs ‘蟑螂’ 相似度：0.2809\n"
     ]
    }
   ],
   "source": [
    "# 检查所有词汇是否在词表中\n",
    "missing_words = []\n",
    "for word in [\"好吃\", \"美味\", \"蟑螂\"]:\n",
    "    if word not in model.wv.key_to_index:\n",
    "        missing_words.append(word)\n",
    "if missing_words:\n",
    "    print(f\"❌ 错误：以下词汇未在词表中：{missing_words}\")\n",
    "else:\n",
    "    sim1 = model.wv.similarity(\"好吃\", \"美味\")   # 正向相似度\n",
    "    sim2 = model.wv.similarity(\"好吃\", \"蟑螂\")   # 负向相似BB\n",
    "    print(f\"‘好吃’ vs ‘美味’ 相似度：{sim1:.4f}\")\n",
    "    print(f\"‘好吃’ vs ‘蟑螂’ 相似度：{sim2:.4f}\")"
   ]
  },
  {
   "cell_type": "code",
   "execution_count": 33,
   "id": "8ce7629b-f43a-454d-83b1-c499fd3be9b2",
   "metadata": {},
   "outputs": [
    {
     "name": "stdout",
     "output_type": "stream",
     "text": [
      "向量运算结果（餐厅+聚会-安静）：\n",
      "- 最相关词：美好（相似度：0.7610）\n"
     ]
    }
   ],
   "source": [
    "# 检查运算涉及的词汇是否在词表中\n",
    "required_words = [\"餐厅\", \"聚会\", \"安静\"]\n",
    "missing_words = [word for word in required_words if word not in model.wv.key_to_index]\n",
    "if missing_words:\n",
    "    print(f\"❌ 错误：以下词汇未在词表中，无法运算：{missing_words}\")\n",
    "else:\n",
    "    result = model.wv.most_similar(\n",
    "        positive=[\"餐厅\", \"聚会\"],  # 正向词汇\n",
    "        negative=[\"安静\"],          # 负向词汇\n",
    "        topn=1                      # 取1个最相关结果\n",
    "    )\n",
    "    print(\"向量运算结果（餐厅+聚会-安静）：\")\n",
    "    print(f\"- 最相关词：{result[0][0]}（相似度：{result[0][1]:.4f}）\")"
   ]
  },
  {
   "cell_type": "code",
   "execution_count": null,
   "id": "2f82b600-8312-40c2-b33f-d2e9d828e36e",
   "metadata": {},
   "outputs": [],
   "source": []
  }
 ],
 "metadata": {
  "kernelspec": {
   "display_name": "Python (yl)",
   "language": "python",
   "name": "yl"
  },
  "language_info": {
   "codemirror_mode": {
    "name": "ipython",
    "version": 3
   },
   "file_extension": ".py",
   "mimetype": "text/x-python",
   "name": "python",
   "nbconvert_exporter": "python",
   "pygments_lexer": "ipython3",
   "version": "3.9.21"
  }
 },
 "nbformat": 4,
 "nbformat_minor": 5
}
