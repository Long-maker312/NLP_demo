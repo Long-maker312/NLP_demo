{
 "cells": [
  {
   "cell_type": "markdown",
   "id": "0423afcd-8ff3-4e8e-9a17-7fb87e9c6571",
   "metadata": {},
   "source": [
    "# 结巴分词实践  "
   ]
  },
  {
   "cell_type": "markdown",
   "id": "d87d9a38-d9f6-4d1a-a21f-77bcfce77693",
   "metadata": {},
   "source": [
    "## 结巴分词的三种模式  "
   ]
  },
  {
   "cell_type": "markdown",
   "id": "38bb9427-45fd-4510-96d2-5495efc73d57",
   "metadata": {},
   "source": [
    "### 精准模式"
   ]
  },
  {
   "cell_type": "code",
   "execution_count": 10,
   "id": "88357ee4-f638-4ee3-a14d-0a7d9b508cfa",
   "metadata": {},
   "outputs": [
    {
     "name": "stdout",
     "output_type": "stream",
     "text": [
      "精确模式结果： 我/ 来到/ 北京/ 清华大学\n"
     ]
    }
   ],
   "source": [
    "import jieba\n",
    "\n",
    "# 待分词的句子\n",
    "text = \"我来到北京清华大学\"\n",
    "\n",
    "# 使用精确模式进行分词\n",
    "seg_list = jieba.cut(text, cut_all=False)\n",
    "\n",
    "# 输出分词结果，用斜杠分隔\n",
    "print(\"精确模式结果：\", \"/ \".join(seg_list))"
   ]
  },
  {
   "cell_type": "markdown",
   "id": "4d272cd8-58cc-48d2-abc5-521dfdf15f6a",
   "metadata": {},
   "source": [
    "### 全模式"
   ]
  },
  {
   "cell_type": "code",
   "execution_count": 13,
   "id": "62e43ffe-630b-4c40-87aa-3230ee4cbbbf",
   "metadata": {},
   "outputs": [
    {
     "name": "stdout",
     "output_type": "stream",
     "text": [
      "全模式结果： 我/ 来到/ 北京/ 清华/ 清华大学/ 华大/ 大学\n"
     ]
    }
   ],
   "source": [
    "import jieba\n",
    "\n",
    "# 待分词的句子\n",
    "text = \"我来到北京清华大学\"\n",
    "\n",
    "# 使用全模式进行分词\n",
    "seg_list = jieba.cut(text, cut_all=True)\n",
    "\n",
    "# 输出分词结果，用斜杠分隔\n",
    "print(\"全模式结果：\", \"/ \".join(seg_list))"
   ]
  },
  {
   "cell_type": "markdown",
   "id": "db3d9ebc-9c37-4b8f-93e4-7437a2f92b60",
   "metadata": {},
   "source": [
    "### 搜索引擎模式"
   ]
  },
  {
   "cell_type": "code",
   "execution_count": 18,
   "id": "a1a23412-ed56-4fec-a9c5-79fcd15fdd10",
   "metadata": {},
   "outputs": [
    {
     "name": "stdout",
     "output_type": "stream",
     "text": [
      "搜索引擎模式结果： 小明/ 硕士/ 毕业/ 于/ 中国/ 科学/ 学院/ 科学院/ 中国科学院/ 计算/ 计算所/ ，/ 后/ 在/ 日本/ 京都/ 大学/ 日本京都大学/ 深造\n"
     ]
    }
   ],
   "source": [
    "import jieba\n",
    "\n",
    "# 待分词的句子\n",
    "text = \"小明硕士毕业于中国科学院计算所，后在日本京都大学深造\"\n",
    "\n",
    "# 使用搜索引擎模式进行分词\n",
    "seg_list = jieba.cut_for_search(text)\n",
    "\n",
    "# 输出分词结果，用斜杠分隔\n",
    "print(\"搜索引擎模式结果：\", \"/ \".join(seg_list))"
   ]
  },
  {
   "cell_type": "code",
   "execution_count": 1,
   "id": "fa82e86d-7934-4e53-b18a-4d022e3749d9",
   "metadata": {},
   "outputs": [
    {
     "name": "stderr",
     "output_type": "stream",
     "text": [
      "Building prefix dict from the default dictionary ...\n",
      "Loading model from cache C:\\Userdata\\AppData\\Local\\Temp\\jieba.cache\n",
      "Loading model cost 0.370 seconds.\n",
      "Prefix dict has been built successfully.\n"
     ]
    },
    {
     "name": "stdout",
     "output_type": "stream",
     "text": [
      "基于 TF-IDF 算法提取的 Top 5 关键词： ['河北省人民政府', '一流大学', '燕山大学', '学科建设', '大学']\n"
     ]
    }
   ],
   "source": [
    "import jieba.analyse\n",
    "\n",
    "# 待提取关键词的文本\n",
    "text = \"燕山大学是河北省人民政府、教育部、工业和信息化部、国家国防科技工业局四方共建的全国重点大学，河北省重点支持的国家一流大学和世界一流学科建设高校，北京高科大学联盟成员。\"\n",
    "\n",
    "# 使用 TF-IDF 算法提取关键词，topK=5 表示提取前 5 个关键词\n",
    "# withWeight=False 表示不返回关键词的权重\n",
    "keywords_tfidf = jieba.analyse.extract_tags(text, topK=5, withWeight=False)\n",
    "\n",
    "# 输出基于 TF-IDF 算法提取的关键词\n",
    "print(\"基于 TF-IDF 算法提取的 Top 5 关键词：\", keywords_tfidf)"
   ]
  },
  {
   "cell_type": "code",
   "execution_count": 3,
   "id": "13f64330-7e1f-4bee-ab5f-016d9189b58e",
   "metadata": {},
   "outputs": [
    {
     "name": "stdout",
     "output_type": "stream",
     "text": [
      "基于 TextRank 算法提取的 Top 5 关键词： ['重点', '大学', '国家', '河北省', '共建']\n"
     ]
    }
   ],
   "source": [
    "import jieba.analyse\n",
    "\n",
    "# 待提取关键词的文本\n",
    "text = \"燕山大学是河北省人民政府、教育部、工业和信息化部、国家国防科技工业局四方共建的全国重点大学，河北省重点支持的国家一流大学和世界一流学科建设高校，北京高科大学联盟成员。\"\n",
    "\n",
    "# 使用 TextRank 算法提取关键词，topK=5 表示提取前 5 个关键词\n",
    "# withWeight=False 表示不返回关键词的权重\n",
    "keywords_textrank = jieba.analyse.textrank(text, topK=5, withWeight=False)\n",
    "\n",
    "# 输出基于 TextRank 算法提取的关键词\n",
    "print(\"基于 TextRank 算法提取的 Top 5 关键词：\", keywords_textrank)"
   ]
  },
  {
   "cell_type": "markdown",
   "id": "6f59edf6-e934-4a7b-ad7e-f09041db88c4",
   "metadata": {},
   "source": [
    "## 载入词典"
   ]
  },
  {
   "cell_type": "code",
   "execution_count": 1,
   "id": "20863c6a-b227-4e88-a7ef-4df72eb2f2db",
   "metadata": {},
   "outputs": [
    {
     "name": "stderr",
     "output_type": "stream",
     "text": [
      "Building prefix dict from the default dictionary ...\n",
      "Loading model from cache C:\\Userdata\\AppData\\Local\\Temp\\jieba.cache\n",
      "Loading model cost 0.384 seconds.\n",
      "Prefix dict has been built successfully.\n"
     ]
    },
    {
     "name": "stdout",
     "output_type": "stream",
     "text": [
      "喻/龙/即将/是/自然语言/处理/方面/的/高手/。\n"
     ]
    }
   ],
   "source": [
    "import jieba\n",
    "seg_list = jieba.cut(\"喻龙即将是自然语言处理方面的高手。\", HMM=False)\n",
    "print(\"/\".join(seg_list))"
   ]
  }
 ],
 "metadata": {
  "kernelspec": {
   "display_name": "Python (yl)",
   "language": "python",
   "name": "yl"
  },
  "language_info": {
   "codemirror_mode": {
    "name": "ipython",
    "version": 3
   },
   "file_extension": ".py",
   "mimetype": "text/x-python",
   "name": "python",
   "nbconvert_exporter": "python",
   "pygments_lexer": "ipython3",
   "version": "3.9.21"
  }
 },
 "nbformat": 4,
 "nbformat_minor": 5
}
